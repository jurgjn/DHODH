{
 "cells": [
  {
   "cell_type": "code",
   "execution_count": 1,
   "metadata": {},
   "outputs": [],
   "source": [
    "# Filter ChEMBL data for active binders (pChEMBL > 6.5 as in https://doi.org/10.1186/s13321-017-0232-0)\n",
    "import itertools, os, os.path\n",
    "import numpy as np, pandas as pd"
   ]
  },
  {
   "cell_type": "code",
   "execution_count": 2,
   "metadata": {},
   "outputs": [
    {
     "name": "stdout",
     "output_type": "stream",
     "text": [
      "936 total compounds with binding data\n",
      "487 filtered compounds\n",
      "     487 /Users/jjaenes/23.03_DHODH/resources/DHODH_DUDE-Z/DHODH_DUDE-Z.smi\n"
     ]
    }
   ],
   "source": [
    "fp_ = os.path.join(os.path.abspath(''), '../DHODH_ChEMBL/DHODH_ChEMBL.tsv') #https://stackoverflow.com/questions/52119454/how-to-obtain-jupyter-notebooks-path\n",
    "df_ = pd.read_csv(fp_, sep='\\t')\n",
    "print(len(df_), 'total compounds with binding data')\n",
    "df_ = df_.query('pchembl_value > 6.5')\n",
    "print(len(df_), 'filtered compounds')\n",
    "\n",
    "fp_ = os.path.join(os.path.abspath(''), 'DHODH_DUDE-Z.smi')\n",
    "df_[['canonical_smiles', 'molecule_chembl_id']].to_csv(fp_, sep='\\t', index=False, header=False)\n",
    "!wc -l {fp_}"
   ]
  }
 ],
 "metadata": {
  "kernelspec": {
   "display_name": "Python 3",
   "language": "python",
   "name": "python3"
  },
  "language_info": {
   "codemirror_mode": {
    "name": "ipython",
    "version": 3
   },
   "file_extension": ".py",
   "mimetype": "text/x-python",
   "name": "python",
   "nbconvert_exporter": "python",
   "pygments_lexer": "ipython3",
   "version": "3.11.4"
  },
  "orig_nbformat": 4
 },
 "nbformat": 4,
 "nbformat_minor": 2
}
