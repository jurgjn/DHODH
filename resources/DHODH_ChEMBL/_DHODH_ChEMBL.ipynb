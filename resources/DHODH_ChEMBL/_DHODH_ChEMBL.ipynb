{
 "cells": [
  {
   "cell_type": "code",
   "execution_count": 1,
   "metadata": {},
   "outputs": [],
   "source": [
    "# Download DHODH binding data from ChEMBL using the official python client from https://github.com/chembl/chembl_webresource_client\n",
    "import itertools, os, os.path\n",
    "import numpy as np, pandas as pd\n",
    "import chembl_webresource_client.new_client"
   ]
  },
  {
   "cell_type": "code",
   "execution_count": null,
   "metadata": {},
   "outputs": [],
   "source": [
    "from chembl_webresource_client.new_client import new_client\n",
    "\n",
    "available_resources = [resource for resource in dir(new_client) if not resource.startswith('_')]\n",
    "print(available_resources)"
   ]
  },
  {
   "cell_type": "code",
   "execution_count": null,
   "metadata": {},
   "outputs": [],
   "source": [
    "DHODH_chembl_id = 'CHEMBL1966' # (now solved - ) https://github.com/chembl/GLaDOS/issues/1319 "
   ]
  },
  {
   "cell_type": "code",
   "execution_count": null,
   "metadata": {},
   "outputs": [],
   "source": [
    "df_activity = pd.DataFrame.from_records(chembl_webresource_client.new_client.new_client.activity.filter(target_chembl_id=DHODH_chembl_id, assay_type='B'))\n",
    "print(len(df_activity))\n",
    "df_activity.head(3).transpose()"
   ]
  },
  {
   "cell_type": "code",
   "execution_count": null,
   "metadata": {},
   "outputs": [],
   "source": [
    "df_assay = pd.DataFrame.from_records(chembl_webresource_client.new_client.new_client.assay.filter(target_chembl_id=DHODH_chembl_id, assay_type='B'))\n",
    "print(len(df_assay))\n",
    "df_assay.head(3).transpose()"
   ]
  },
  {
   "cell_type": "code",
   "execution_count": null,
   "metadata": {},
   "outputs": [],
   "source": [
    "df_actives = df_activity.dropna(subset=['pchembl_value']).copy()\n",
    "df_actives['pchembl_value'] = pd.to_numeric(df_actives['pchembl_value'])\n",
    "df_actives = df_actives.merge(df_assay[['assay_chembl_id', 'confidence_score']], on='assay_chembl_id').query('(confidence_score == 9)')\n",
    "df_actives"
   ]
  },
  {
   "cell_type": "code",
   "execution_count": null,
   "metadata": {},
   "outputs": [],
   "source": [
    "df_agg = df_actives.groupby(['canonical_smiles', 'molecule_chembl_id']).agg({\n",
    "    'pchembl_value': np.mean,\n",
    "    'molecule_pref_name': lambda x: next(iter(x)),\n",
    "}).reset_index()\n",
    "df_agg"
   ]
  },
  {
   "cell_type": "code",
   "execution_count": null,
   "metadata": {},
   "outputs": [],
   "source": [
    "fp_ = os.path.join(os.path.abspath(\"\"), 'DHODH_ChEMBL.tsv') #https://stackoverflow.com/questions/52119454/how-to-obtain-jupyter-notebooks-path\n",
    "df_agg.to_csv(fp_, sep='\\t', index=False, header=True)\n",
    "!wc -l {fp_}"
   ]
  },
  {
   "cell_type": "code",
   "execution_count": null,
   "metadata": {},
   "outputs": [],
   "source": [
    "fp_ = os.path.join(os.path.abspath(\"\"), 'DHODH_ChEMBL.smi')\n",
    "df_agg[['canonical_smiles', 'molecule_chembl_id']].to_csv(fp_, sep='\\t', index=False, header=False)\n",
    "!wc -l {fp_}"
   ]
  }
 ],
 "metadata": {
  "kernelspec": {
   "display_name": "Python 3",
   "language": "python",
   "name": "python3"
  },
  "language_info": {
   "codemirror_mode": {
    "name": "ipython",
    "version": 3
   },
   "file_extension": ".py",
   "mimetype": "text/x-python",
   "name": "python",
   "nbconvert_exporter": "python",
   "pygments_lexer": "ipython3",
   "version": "3.11.4"
  },
  "orig_nbformat": 4
 },
 "nbformat": 4,
 "nbformat_minor": 2
}
