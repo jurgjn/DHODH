{
 "cells": [
  {
   "cell_type": "code",
   "execution_count": 3,
   "metadata": {},
   "outputs": [
    {
     "name": "stdout",
     "output_type": "stream",
     "text": [
      "/cluster/project/beltrao/jjaenes/23.03_DHODH\n"
     ]
    }
   ],
   "source": [
    "%cd /cluster/project/beltrao/jjaenes/23.03_DHODH\n",
    "from workflow.modules import *"
   ]
  },
  {
   "cell_type": "code",
   "execution_count": 9,
   "metadata": {},
   "outputs": [],
   "source": [
    "!cp resources/DHODH_assay/DHODH_Inhibitors_LS.smi results/smiles/DHODH_inhibitors.smi"
   ]
  },
  {
   "cell_type": "code",
   "execution_count": 10,
   "metadata": {},
   "outputs": [],
   "source": [
    "!cp resources/DHODH_ChEMBL/DHODH_ChEMBL.smi results/smiles/DHODH_ChEMBL.smi"
   ]
  },
  {
   "cell_type": "code",
   "execution_count": 11,
   "metadata": {},
   "outputs": [],
   "source": [
    "# Write PubChem smiles file for DHODH assay\n",
    "pd.read_csv('resources/DHODH_assay/DHODH_inhibitors_pubchem.tsv', sep='\\t')[['smiles', 'compound_id']].to_csv('results/smiles/DHODH_inhibitors_pubchem.smi', sep='\\t', index=False, header=False)"
   ]
  },
  {
   "cell_type": "code",
   "execution_count": null,
   "metadata": {},
   "outputs": [],
   "source": []
  }
 ],
 "metadata": {
  "kernelspec": {
   "display_name": "Python 3",
   "language": "python",
   "name": "python3"
  },
  "language_info": {
   "codemirror_mode": {
    "name": "ipython",
    "version": 3
   },
   "file_extension": ".py",
   "mimetype": "text/x-python",
   "name": "python",
   "nbconvert_exporter": "python",
   "pygments_lexer": "ipython3",
   "version": "3.11.4"
  },
  "orig_nbformat": 4
 },
 "nbformat": 4,
 "nbformat_minor": 2
}
