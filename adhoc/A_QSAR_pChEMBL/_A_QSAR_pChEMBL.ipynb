{
 "cells": [
  {
   "cell_type": "code",
   "execution_count": 1,
   "metadata": {},
   "outputs": [
    {
     "name": "stdout",
     "output_type": "stream",
     "text": [
      "/Users/jjaenes/23.03_DHODH\n"
     ]
    }
   ],
   "source": [
    "import os.path\n",
    "import pandas as pd\n",
    "%cd ~/23.03_DHODH"
   ]
  },
  {
   "cell_type": "code",
   "execution_count": 28,
   "metadata": {},
   "outputs": [
    {
     "name": "stdout",
     "output_type": "stream",
     "text": [
      "Brc1ccc(-c2csc(N/N=C/c3ccccc3)n2)cc1\t5.48\n",
      "C/C(=C\\C[C@@]1(C)[C@H](C)CCC(=O)[C@@H]1C)[C@@H](O)Cc1c(O)c(Cl)c(C)c(C=O)c1O\t5.33\n",
      "C/C(=C\\Cc1c(O)c(Cl)c(C)c(C(=O)O)c1O)CC/C=C(\\C)CC[C@H](O)C(C)(C)O\t4.7\n",
      "C/C(=C\\Cc1c(O)c(Cl)c(C)c(C=O)c1O)CC/C(C)=C(\\C)C(C)CCCO\t4.5\n",
      "C/C(=C\\Cc1c(O)c(Cl)c(C)c(C=O)c1O)CC/C=C(\\C)CCC(=O)C(C)(C)O\t5.03\n"
     ]
    }
   ],
   "source": [
    "fp_ = 'adhoc/A_QSAR_pChEMBL/DHODH_pChEMBL.smi'\n",
    "pd.read_csv('resources/DHODH_ChEMBL/DHODH_ChEMBL.tsv', sep='\\t')[['canonical_smiles', 'pchembl_value']].to_csv(fp_, index=False, header=False, sep='\\t')\n",
    "!head -n 5 adhoc/A_QSAR_pChEMBL/DHODH_pChEMBL.smi"
   ]
  },
  {
   "cell_type": "code",
   "execution_count": 29,
   "metadata": {},
   "outputs": [],
   "source": [
    "!conda run -p envs/qsar-tools software/qsar-tools/createsmartsdescriptors.py --subgraph -c 3 adhoc/A_QSAR_pChEMBL/DHODH_pChEMBL.smi -o adhoc/A_QSAR_pChEMBL/DHODH_pChEMBL_smarts.txt"
   ]
  },
  {
   "cell_type": "code",
   "execution_count": 30,
   "metadata": {},
   "outputs": [
    {
     "name": "stdout",
     "output_type": "stream",
     "text": [
      "Could not import pybel: FP2 fingerprints not supported\n",
      "\n"
     ]
    }
   ],
   "source": [
    "!conda run -p envs/qsar-tools software/qsar-tools/outputfingerprints.py --smarts --smartsfile adhoc/A_QSAR_pChEMBL/DHODH_pChEMBL_smarts.txt adhoc/A_QSAR_pChEMBL/DHODH_pChEMBL.smi -o adhoc/A_QSAR_pChEMBL/DHODH_pChEMBL.fp.gz"
   ]
  },
  {
   "cell_type": "code",
   "execution_count": 31,
   "metadata": {},
   "outputs": [],
   "source": [
    "!conda run -p envs/qsar-tools software/qsar-tools/trainlinearmodel.py adhoc/A_QSAR_pChEMBL/DHODH_pChEMBL.fp.gz -o adhoc/A_QSAR_pChEMBL/DHODH_pChEMBL.model"
   ]
  },
  {
   "cell_type": "code",
   "execution_count": null,
   "metadata": {},
   "outputs": [
    {
     "name": "stdout",
     "output_type": "stream",
     "text": [
      "Could not import pybel: FP2 fingerprints not supported\n",
      "\n"
     ]
    }
   ],
   "source": [
    "!conda run -p envs/qsar-tools software/qsar-tools/outputfingerprints.py --smarts --smartsfile adhoc/A_QSAR_pChEMBL/DHODH_pChEMBL_smarts.txt resources/DHODH_assay/DHODH_Inhibitors_LS.smi -o adhoc/A_QSAR_pChEMBL/DHODH_Inhibitors_LS.fp.gz"
   ]
  },
  {
   "cell_type": "code",
   "execution_count": null,
   "metadata": {},
   "outputs": [],
   "source": [
    "!conda run -p envs/qsar-tools software/qsar-tools/applylinearmodel.py adhoc/A_QSAR_pChEMBL/DHODH_pChEMBL.model adhoc/A_QSAR_pChEMBL/DHODH_Inhibitors_LS.fp.gz > adhoc/A_QSAR_pChEMBL/DHODH_Inhibitors_LS.applylinearmodel.txt"
   ]
  },
  {
   "cell_type": "code",
   "execution_count": null,
   "metadata": {},
   "outputs": [
    {
     "data": {
      "text/html": [
       "<div>\n",
       "<style scoped>\n",
       "    .dataframe tbody tr th:only-of-type {\n",
       "        vertical-align: middle;\n",
       "    }\n",
       "\n",
       "    .dataframe tbody tr th {\n",
       "        vertical-align: top;\n",
       "    }\n",
       "\n",
       "    .dataframe thead th {\n",
       "        text-align: right;\n",
       "    }\n",
       "</style>\n",
       "<table border=\"1\" class=\"dataframe\">\n",
       "  <thead>\n",
       "    <tr style=\"text-align: right;\">\n",
       "      <th></th>\n",
       "      <th>compound</th>\n",
       "      <th>pChEMBL_predicted</th>\n",
       "    </tr>\n",
       "  </thead>\n",
       "  <tbody>\n",
       "    <tr>\n",
       "      <th>0</th>\n",
       "      <td>Azaribine</td>\n",
       "      <td>6.966594</td>\n",
       "    </tr>\n",
       "    <tr>\n",
       "      <th>1</th>\n",
       "      <td>Teriflunomide</td>\n",
       "      <td>6.319507</td>\n",
       "    </tr>\n",
       "    <tr>\n",
       "      <th>2</th>\n",
       "      <td>Felodipine</td>\n",
       "      <td>6.251978</td>\n",
       "    </tr>\n",
       "    <tr>\n",
       "      <th>3</th>\n",
       "      <td>Leflunomide</td>\n",
       "      <td>6.134056</td>\n",
       "    </tr>\n",
       "    <tr>\n",
       "      <th>4</th>\n",
       "      <td>Dicumarol</td>\n",
       "      <td>6.110144</td>\n",
       "    </tr>\n",
       "    <tr>\n",
       "      <th>5</th>\n",
       "      <td>Flunarizine_dihydrochloride</td>\n",
       "      <td>5.874313</td>\n",
       "    </tr>\n",
       "    <tr>\n",
       "      <th>6</th>\n",
       "      <td>Mesoridazine_besylate</td>\n",
       "      <td>5.854171</td>\n",
       "    </tr>\n",
       "    <tr>\n",
       "      <th>7</th>\n",
       "      <td>Tegaserod_maleate</td>\n",
       "      <td>5.462520</td>\n",
       "    </tr>\n",
       "    <tr>\n",
       "      <th>8</th>\n",
       "      <td>Amethopterin</td>\n",
       "      <td>5.459581</td>\n",
       "    </tr>\n",
       "    <tr>\n",
       "      <th>9</th>\n",
       "      <td>Tiratricol</td>\n",
       "      <td>5.358889</td>\n",
       "    </tr>\n",
       "    <tr>\n",
       "      <th>10</th>\n",
       "      <td>Cisatracurium_besylate</td>\n",
       "      <td>5.031790</td>\n",
       "    </tr>\n",
       "  </tbody>\n",
       "</table>\n",
       "</div>"
      ],
      "text/plain": [
       "                       compound  pChEMBL_predicted\n",
       "0                     Azaribine           6.966594\n",
       "1                 Teriflunomide           6.319507\n",
       "2                    Felodipine           6.251978\n",
       "3                   Leflunomide           6.134056\n",
       "4                     Dicumarol           6.110144\n",
       "5   Flunarizine_dihydrochloride           5.874313\n",
       "6         Mesoridazine_besylate           5.854171\n",
       "7             Tegaserod_maleate           5.462520\n",
       "8                  Amethopterin           5.459581\n",
       "9                    Tiratricol           5.358889\n",
       "10       Cisatracurium_besylate           5.031790"
      ]
     },
     "execution_count": 27,
     "metadata": {},
     "output_type": "execute_result"
    }
   ],
   "source": [
    "pd.read_csv('adhoc/A_QSAR_pChEMBL/DHODH_Inhibitors_LS.applylinearmodel.txt', names=['smiles', 'pChEMBL_predicted'], delim_whitespace=True).merge(\n",
    "    right=pd.read_csv('resources/DHODH_assay/DHODH_Inhibitors_LS.smi', names=['smiles', 'compound'], delim_whitespace=True),\n",
    "    on='smiles'\n",
    ")[['compound', 'pChEMBL_predicted']].sort_values('pChEMBL_predicted', ascending=False).reset_index(drop=True)"
   ]
  },
  {
   "cell_type": "code",
   "execution_count": null,
   "metadata": {},
   "outputs": [],
   "source": []
  }
 ],
 "metadata": {
  "kernelspec": {
   "display_name": "anaconda-env",
   "language": "python",
   "name": "python3"
  },
  "language_info": {
   "codemirror_mode": {
    "name": "ipython",
    "version": 3
   },
   "file_extension": ".py",
   "mimetype": "text/x-python",
   "name": "python",
   "nbconvert_exporter": "python",
   "pygments_lexer": "ipython3",
   "version": "3.11.4"
  },
  "orig_nbformat": 4
 },
 "nbformat": 4,
 "nbformat_minor": 2
}
