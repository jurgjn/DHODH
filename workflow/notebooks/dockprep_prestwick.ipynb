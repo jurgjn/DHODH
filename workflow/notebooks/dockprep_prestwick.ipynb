{
 "cells": [
  {
   "cell_type": "code",
   "execution_count": 57,
   "metadata": {},
   "outputs": [],
   "source": [
    "import numpy as np, pandas as pd, sklearn as sk, sklearn.preprocessing, sklearn.metrics"
   ]
  },
  {
   "cell_type": "code",
   "execution_count": 55,
   "metadata": {},
   "outputs": [
    {
     "name": "stdout",
     "output_type": "stream",
     "text": [
      "in_vitro_DHODH_activity\n",
      "not_assayed          1494\n",
      "in_vitro_inactive       8\n",
      "in_vitro_active         3\n",
      "Name: count, dtype: int64\n"
     ]
    },
    {
     "data": {
      "text/html": [
       "<div>\n",
       "<style scoped>\n",
       "    .dataframe tbody tr th:only-of-type {\n",
       "        vertical-align: middle;\n",
       "    }\n",
       "\n",
       "    .dataframe tbody tr th {\n",
       "        vertical-align: top;\n",
       "    }\n",
       "\n",
       "    .dataframe thead th {\n",
       "        text-align: right;\n",
       "    }\n",
       "</style>\n",
       "<table border=\"1\" class=\"dataframe\">\n",
       "  <thead>\n",
       "    <tr style=\"text-align: right;\">\n",
       "      <th></th>\n",
       "      <th>compound_id</th>\n",
       "      <th>smiles</th>\n",
       "      <th>in_vitro_DHODH_activity</th>\n",
       "    </tr>\n",
       "  </thead>\n",
       "  <tbody>\n",
       "    <tr>\n",
       "      <th>22</th>\n",
       "      <td>cisatracurium_besylate</td>\n",
       "      <td>COc1ccc(C[C@@H]2c3cc(OC)c(OC)cc3CC[N@+]2(C)CCC...</td>\n",
       "      <td>in_vitro_inactive</td>\n",
       "    </tr>\n",
       "    <tr>\n",
       "      <th>112</th>\n",
       "      <td>azaribine</td>\n",
       "      <td>CC(=O)OC[C@H]1O[C@@H](n2ncc(=O)[nH]c2=O)[C@H](...</td>\n",
       "      <td>in_vitro_inactive</td>\n",
       "    </tr>\n",
       "    <tr>\n",
       "      <th>236</th>\n",
       "      <td>amethopterin</td>\n",
       "      <td>CN(Cc1cnc2nc(N)nc(N)c2n1)c1ccc(C(=O)NC(CCC(=O)...</td>\n",
       "      <td>in_vitro_inactive</td>\n",
       "    </tr>\n",
       "    <tr>\n",
       "      <th>335</th>\n",
       "      <td>dicumarol</td>\n",
       "      <td>O=c1oc2ccccc2c(O)c1Cc1c(O)c2ccccc2oc1=O</td>\n",
       "      <td>in_vitro_active</td>\n",
       "    </tr>\n",
       "    <tr>\n",
       "      <th>527</th>\n",
       "      <td>tiratricol</td>\n",
       "      <td>O=C(O)Cc1cc(I)c(Oc2ccc(O)c(I)c2)c(I)c1</td>\n",
       "      <td>in_vitro_active</td>\n",
       "    </tr>\n",
       "    <tr>\n",
       "      <th>541</th>\n",
       "      <td>mesoridazine_besylate</td>\n",
       "      <td>CN1CCCCC1CCN1c2ccccc2Sc2ccc([S+](C)[O-])cc21.O...</td>\n",
       "      <td>in_vitro_inactive</td>\n",
       "    </tr>\n",
       "    <tr>\n",
       "      <th>586</th>\n",
       "      <td>felodipine</td>\n",
       "      <td>CCOC(=O)C1=C(C)NC(C)=C(C(=O)OC)C1c1cccc(Cl)c1Cl</td>\n",
       "      <td>in_vitro_inactive</td>\n",
       "    </tr>\n",
       "    <tr>\n",
       "      <th>1300</th>\n",
       "      <td>leflunomide</td>\n",
       "      <td>Cc1oncc1C(=O)Nc1ccc(C(F)(F)F)cc1</td>\n",
       "      <td>in_vitro_inactive</td>\n",
       "    </tr>\n",
       "    <tr>\n",
       "      <th>1341</th>\n",
       "      <td>flunarizine_dihydrochloride</td>\n",
       "      <td>Cl.Fc1ccc(C(c2ccc(F)cc2)N2CCN(C/C=C/c3ccccc3)C...</td>\n",
       "      <td>in_vitro_inactive</td>\n",
       "    </tr>\n",
       "    <tr>\n",
       "      <th>1487</th>\n",
       "      <td>tegaserod_maleate</td>\n",
       "      <td>CCCCCNC(=N)N/N=C/c1c[nH]c2ccc(OC)cc12.O=C(O)/C...</td>\n",
       "      <td>in_vitro_inactive</td>\n",
       "    </tr>\n",
       "    <tr>\n",
       "      <th>1504</th>\n",
       "      <td>teriflunomide</td>\n",
       "      <td>C/C(=C(\\C#N)/C(=O)NC1=CC=C(C=C1)C(F)(F)F)/O</td>\n",
       "      <td>in_vitro_active</td>\n",
       "    </tr>\n",
       "  </tbody>\n",
       "</table>\n",
       "</div>"
      ],
      "text/plain": [
       "                      compound_id  \\\n",
       "22         cisatracurium_besylate   \n",
       "112                     azaribine   \n",
       "236                  amethopterin   \n",
       "335                     dicumarol   \n",
       "527                    tiratricol   \n",
       "541         mesoridazine_besylate   \n",
       "586                    felodipine   \n",
       "1300                  leflunomide   \n",
       "1341  flunarizine_dihydrochloride   \n",
       "1487            tegaserod_maleate   \n",
       "1504                teriflunomide   \n",
       "\n",
       "                                                 smiles  \\\n",
       "22    COc1ccc(C[C@@H]2c3cc(OC)c(OC)cc3CC[N@+]2(C)CCC...   \n",
       "112   CC(=O)OC[C@H]1O[C@@H](n2ncc(=O)[nH]c2=O)[C@H](...   \n",
       "236   CN(Cc1cnc2nc(N)nc(N)c2n1)c1ccc(C(=O)NC(CCC(=O)...   \n",
       "335             O=c1oc2ccccc2c(O)c1Cc1c(O)c2ccccc2oc1=O   \n",
       "527              O=C(O)Cc1cc(I)c(Oc2ccc(O)c(I)c2)c(I)c1   \n",
       "541   CN1CCCCC1CCN1c2ccccc2Sc2ccc([S+](C)[O-])cc21.O...   \n",
       "586     CCOC(=O)C1=C(C)NC(C)=C(C(=O)OC)C1c1cccc(Cl)c1Cl   \n",
       "1300                   Cc1oncc1C(=O)Nc1ccc(C(F)(F)F)cc1   \n",
       "1341  Cl.Fc1ccc(C(c2ccc(F)cc2)N2CCN(C/C=C/c3ccccc3)C...   \n",
       "1487  CCCCCNC(=N)N/N=C/c1c[nH]c2ccc(OC)cc12.O=C(O)/C...   \n",
       "1504        C/C(=C(\\C#N)/C(=O)NC1=CC=C(C=C1)C(F)(F)F)/O   \n",
       "\n",
       "     in_vitro_DHODH_activity  \n",
       "22         in_vitro_inactive  \n",
       "112        in_vitro_inactive  \n",
       "236        in_vitro_inactive  \n",
       "335          in_vitro_active  \n",
       "527          in_vitro_active  \n",
       "541        in_vitro_inactive  \n",
       "586        in_vitro_inactive  \n",
       "1300       in_vitro_inactive  \n",
       "1341       in_vitro_inactive  \n",
       "1487       in_vitro_inactive  \n",
       "1504         in_vitro_active  "
      ]
     },
     "execution_count": 55,
     "metadata": {},
     "output_type": "execute_result"
    }
   ],
   "source": [
    "# Prestwick library\n",
    "fp_ = 'resources/covid-in-vitro-screening-data/doi.org-10.1101-2020.04.03.023846-with-smiles.csv'\n",
    "df_ = pd.read_csv(fp_)#[['SMILES', 'CHEMBL_ID', 'CHEMBL_COMPOUND_NAME']]\n",
    "\n",
    "def compound_id_(r):\n",
    "    if r['CHEMBL_COMPOUND_NAME'] == r['CHEMBL_COMPOUND_NAME']:\n",
    "        return r['CHEMBL_COMPOUND_NAME'].replace(' ', '_').lower()\n",
    "    else:\n",
    "        return r['Chemical name'].replace(' ', '_').lower()\n",
    "df_['compound_id'] = df_.apply(compound_id_, axis=1)\n",
    "df_ = df_.rename({'SMILES': 'smiles'}, axis=1)[['compound_id', 'smiles']]\n",
    "df_.loc[len(df_)] = ['teriflunomide', r'C/C(=C(\\C#N)/C(=O)NC1=CC=C(C=C1)C(F)(F)F)/O', ]\n",
    "\n",
    "def in_vitro_DHODH_activity_(r):\n",
    "    if r.compound_id in {'teriflunomide', 'tiratricol', 'dicumarol'}:\n",
    "        return 'in_vitro_active'\n",
    "    elif r.compound_id in {'leflunomide', 'azaribine', 'tegaserod_maleate', 'flunarizine_dihydrochloride', 'felodipine', 'cisatracurium_besylate', 'mesoridazine_besylate', 'amethopterin'}:\n",
    "        return 'in_vitro_inactive'\n",
    "    else:\n",
    "        return 'not_assayed'\n",
    "df_['in_vitro_DHODH_activity'] = df_.apply(in_vitro_DHODH_activity_, axis=1)\n",
    "\n",
    "print(df_['in_vitro_DHODH_activity'].value_counts())\n",
    "df_.query('in_vitro_DHODH_activity != \"not_assayed\"')"
   ]
  },
  {
   "cell_type": "code",
   "execution_count": 60,
   "metadata": {},
   "outputs": [
    {
     "name": "stderr",
     "output_type": "stream",
     "text": [
      "/cluster/project/beltrao/jjaenes/software/miniconda3/envs/af2genomics-envA/lib/python3.12/site-packages/numpy/core/fromnumeric.py:59: FutureWarning: 'DataFrame.swapaxes' is deprecated and will be removed in a future version. Please use 'DataFrame.transpose' instead.\n",
      "  return bound(*args, **kwds)\n"
     ]
    }
   ],
   "source": [
    "split_df = np.array_split(df_, 3)\n",
    "split_df[0][['smiles', 'compound_id']].to_csv('results/smiles/prestwick_a.smi', header=False, index=False, sep=' ')\n",
    "split_df[1][['smiles', 'compound_id']].to_csv('results/smiles/prestwick_b.smi', header=False, index=False, sep=' ')\n",
    "split_df[2][['smiles', 'compound_id']].to_csv('results/smiles/prestwick_c.smi', header=False, index=False, sep=' ')"
   ]
  },
  {
   "cell_type": "code",
   "execution_count": 61,
   "metadata": {},
   "outputs": [
    {
     "name": "stdout",
     "output_type": "stream",
     "text": [
      "   111 results/smiles/dude_actives.smi\n",
      "   713 results/smiles/dude_decoys_a.smi\n",
      "   698 results/smiles/dude_decoys_b.smi\n",
      "   665 results/smiles/dude_decoys_c.smi\n",
      "   570 results/smiles/dude_decoys_d.smi\n",
      "   621 results/smiles/dude_decoys_e.smi\n",
      "   628 results/smiles/dude_decoys_f.smi\n",
      "   624 results/smiles/dude_decoys_g.smi\n",
      "   658 results/smiles/dude_decoys_h.smi\n",
      "   658 results/smiles/dude_decoys_i.smi\n",
      "   615 results/smiles/dude_decoys_j.smi\n",
      "   502 results/smiles/prestwick_a.smi\n",
      "   502 results/smiles/prestwick_b.smi\n",
      "   501 results/smiles/prestwick_c.smi\n",
      "  8066 total\n"
     ]
    }
   ],
   "source": [
    "!wc -l results/smiles/*.smi"
   ]
  },
  {
   "cell_type": "code",
   "execution_count": null,
   "metadata": {},
   "outputs": [],
   "source": []
  }
 ],
 "metadata": {
  "kernelspec": {
   "display_name": "af2genomics-envA",
   "language": "python",
   "name": "python3"
  },
  "language_info": {
   "codemirror_mode": {
    "name": "ipython",
    "version": 3
   },
   "file_extension": ".py",
   "mimetype": "text/x-python",
   "name": "python",
   "nbconvert_exporter": "python",
   "pygments_lexer": "ipython3",
   "version": "3.12.4"
  }
 },
 "nbformat": 4,
 "nbformat_minor": 2
}
