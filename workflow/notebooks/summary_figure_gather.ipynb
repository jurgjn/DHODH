{
 "cells": [
  {
   "cell_type": "code",
   "execution_count": 1,
   "metadata": {},
   "outputs": [
    {
     "name": "stdout",
     "output_type": "stream",
     "text": [
      "/cluster/project/beltrao/jjaenes/23.03_DHODH\n"
     ]
    }
   ],
   "source": [
    "%cd ../../.\n",
    "from workflow.modules import *"
   ]
  },
  {
   "cell_type": "code",
   "execution_count": 3,
   "metadata": {},
   "outputs": [],
   "source": [
    "# Choose method to process / run for both\n",
    "#method_name_ = 'DiffDock'\n",
    "method_name_ = 'vina'\n",
    "\n",
    "def read_diffdock(library_id, pdb_id):\n",
    "    score_col_ = f'docking_score_{pdb_id}'\n",
    "    fp_ = f'results/DiffDockRescore/{library_id}+{pdb_id}.tsv'\n",
    "    #df_ = read_gnina(fp_).query('mode_id == 1')[['ligand_id', 'minimizedAffinity']].rename({'minimizedAffinity': score_col_}, axis=1)\n",
    "    df_ = pd.read_csv(fp_, sep='\\t').rename({'CNN_VS': score_col_}, axis=1)\n",
    "    df_['ligand_id'] = df_['complex_name'].str.removesuffix(f'+{pdb_id}')\n",
    "    df_['library_id'] = library_id\n",
    "    df_[score_col_] = df_[score_col_].fillna(0)\n",
    "    return df_.drop_duplicates(subset=['ligand_id'], keep=False)[['ligand_id', 'library_id', score_col_]]\n",
    "\n",
    "def read_smina(library_id, pdb_id):\n",
    "    score_col_ = f'docking_score_{pdb_id}'\n",
    "    fp_ = f'results/smina/{library_id}+{pdb_id}.sdf'\n",
    "    df_ = read_gnina(fp_).query('mode_id == 1')[['ligand_id', 'minimizedAffinity']].rename({'minimizedAffinity': score_col_}, axis=1)\n",
    "    df_[score_col_] = -df_[score_col_]\n",
    "    df_['library_id'] = library_id\n",
    "    return df_\n",
    "\n",
    "if method_name_ == 'DiffDock':\n",
    "    df_ = pd.concat([\n",
    "        pd.concat(map(lambda l: read_diffdock(l, '1d3g'), library_id), axis=0).set_index(['ligand_id', 'library_id']),\n",
    "        pd.concat(map(lambda l: read_diffdock(l, '1d3h'), library_id), axis=0).set_index(['ligand_id', 'library_id']),\n",
    "        pd.concat(map(lambda l: read_diffdock(l, '4igh'), library_id), axis=0).set_index(['ligand_id', 'library_id']),\n",
    "        pd.concat(map(lambda l: read_diffdock(l, '6j3c'), library_id), axis=0).set_index(['ligand_id', 'library_id']),\n",
    "    ], axis=1).reset_index()\n",
    "elif method_name_ == 'vina':\n",
    "    df_ = pd.concat([\n",
    "        pd.concat(map(lambda l: read_smina(l, '1d3g'), library_id), axis=0).set_index(['ligand_id', 'library_id']),\n",
    "        pd.concat(map(lambda l: read_smina(l, '1d3h'), library_id), axis=0).set_index(['ligand_id', 'library_id']),\n",
    "        pd.concat(map(lambda l: read_smina(l, '4igh'), library_id), axis=0).set_index(['ligand_id', 'library_id']),\n",
    "        pd.concat(map(lambda l: read_smina(l, '6j3c'), library_id), axis=0).set_index(['ligand_id', 'library_id']),\n",
    "    ], axis=1).reset_index()\n",
    "else:\n",
    "    assert False\n",
    "\n",
    "df_.to_csv(f'results/docking_scores_{method_name_}.tsv', sep='\\t', index=False, header=True)"
   ]
  }
 ],
 "metadata": {
  "kernelspec": {
   "display_name": "af2genomics-env1",
   "language": "python",
   "name": "python3"
  },
  "language_info": {
   "codemirror_mode": {
    "name": "ipython",
    "version": 3
   },
   "file_extension": ".py",
   "mimetype": "text/x-python",
   "name": "python",
   "nbconvert_exporter": "python",
   "pygments_lexer": "ipython3",
   "version": "3.12.3"
  }
 },
 "nbformat": 4,
 "nbformat_minor": 2
}
